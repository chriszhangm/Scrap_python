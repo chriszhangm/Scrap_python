{
 "cells": [
  {
   "cell_type": "markdown",
   "metadata": {},
   "source": [
    "# Make more money by buying lottery? \n",
    "## --- (Python Crawler+Data Analysis)"
   ]
  },
  {
   "cell_type": "markdown",
   "metadata": {},
   "source": [
    "## Introduction\n",
    "\n",
    "**In this report, I will extract 100 pages of '3d' lottery data from http://www.zhcw.com to see if there is any strategy to make more money by buying the lottery. '3d' lottery is one of the favorite lottery game in China. People can choose 3 numbers from 000 to 999 and wait for one winning numbers. Firstly, let's see the data structure: we have Date(One time per day), period, winning numbers, sale amount and reward ratio.**"
   ]
  },
  {
   "cell_type": "markdown",
   "metadata": {},
   "source": [
    "![jupyter](./data.jpeg)"
   ]
  },
  {
   "cell_type": "markdown",
   "metadata": {},
   "source": [
    "## Get the Data\n",
    "\n",
    "**By analyzing the web source code, and using the 'Requests' package, 'Xpath' method to get the lottery data from 2013 to current date.**"
   ]
  },
  {
   "cell_type": "code",
   "execution_count": 2,
   "metadata": {
    "scrolled": false
   },
   "outputs": [
    {
     "name": "stdout",
     "output_type": "stream",
     "text": [
      "<Response [200]>\n"
     ]
    }
   ],
   "source": [
    "import requests\n",
    "headers = {'User-Agent': 'Mozilla/5.0 (Macintosh; Intel Mac OS X 10_12_6) AppleWebKit/537.36 (KHTML, like Gecko) Chrome/74.0.3729.169 Safari/537.36', 'Accept-Encoding': 'gzip, deflate', 'Accept': '*/*', 'Connection': 'keep-alive'} #Simulate the browser, keep-alive to make the process \n",
    "url = 'http://kaijiang.zhcw.com/zhcw/html/3d/list_1.html'\n",
    "response = requests.get(url = url,headers = headers)\n",
    "print(response)"
   ]
  },
  {
   "cell_type": "markdown",
   "metadata": {},
   "source": [
    "**Code '200' means that the we can successfully extract the data.**"
   ]
  },
  {
   "cell_type": "code",
   "execution_count": 3,
   "metadata": {},
   "outputs": [
    {
     "name": "stdout",
     "output_type": "stream",
     "text": [
      "{'User-Agent': 'python-requests/2.22.0', 'Accept-Encoding': 'gzip, deflate', 'Accept': '*/*', 'Connection': 'keep-alive'}\n"
     ]
    }
   ],
   "source": [
    "response_default = requests.get(url = url)\n",
    "print(response_default.request.headers)"
   ]
  },
  {
   "cell_type": "markdown",
   "metadata": {},
   "source": [
    "**The code is not always equal 200 because some website did not allow the python to extract the information. Thus, we need change our heaeders sometimes to make the website always know that it is not the robot(python) to extract the data.**"
   ]
  },
  {
   "cell_type": "code",
   "execution_count": 4,
   "metadata": {},
   "outputs": [
    {
     "data": {
      "text/plain": [
       "{'User-Agent': 'Mozilla/5.0 (Macintosh; Intel Mac OS X 10_12_6) AppleWebKit/537.36 (KHTML, like Gecko) Chrome/74.0.3729.169 Safari/537.36', 'Accept-Encoding': 'gzip, deflate', 'Accept': '*/*', 'Connection': 'keep-alive'}"
      ]
     },
     "execution_count": 4,
     "metadata": {},
     "output_type": "execute_result"
    }
   ],
   "source": [
    "response.request.headers"
   ]
  },
  {
   "cell_type": "code",
   "execution_count": 5,
   "metadata": {},
   "outputs": [],
   "source": [
    "from lxml import etree"
   ]
  },
  {
   "cell_type": "code",
   "execution_count": 6,
   "metadata": {},
   "outputs": [],
   "source": [
    "res_xpath = etree.HTML(response.text) #turn html to xpath structure"
   ]
  },
  {
   "cell_type": "code",
   "execution_count": 7,
   "metadata": {},
   "outputs": [
    {
     "name": "stdout",
     "output_type": "stream",
     "text": [
      "['2019120']\n"
     ]
    }
   ],
   "source": [
    "print(res_xpath.xpath('/html/body/table//tr[3]/td[2]/text()'))"
   ]
  },
  {
   "cell_type": "code",
   "execution_count": 8,
   "metadata": {},
   "outputs": [],
   "source": [
    "trs = res_xpath.xpath('/html/body/table//tr')"
   ]
  },
  {
   "cell_type": "markdown",
   "metadata": {},
   "source": [
    "**trs will have 20 elements to be stored because there are 20 items shown in one page.**"
   ]
  },
  {
   "cell_type": "code",
   "execution_count": 9,
   "metadata": {},
   "outputs": [
    {
     "name": "stdout",
     "output_type": "stream",
     "text": [
      "[<Element tr at 0x10df98708>, <Element tr at 0x10df98a88>, <Element tr at 0x10df98b08>, <Element tr at 0x10df98b48>, <Element tr at 0x10df98ac8>, <Element tr at 0x10df98bc8>, <Element tr at 0x10df98c08>, <Element tr at 0x10df98c48>, <Element tr at 0x10df98c88>, <Element tr at 0x10df98b88>, <Element tr at 0x10df98cc8>, <Element tr at 0x10df98d08>, <Element tr at 0x10df98d48>, <Element tr at 0x10df98d88>, <Element tr at 0x10df98dc8>, <Element tr at 0x10df98e08>, <Element tr at 0x10df98e48>, <Element tr at 0x10df98e88>, <Element tr at 0x10df98ec8>, <Element tr at 0x10df98f08>, <Element tr at 0x10df98f48>, <Element tr at 0x10df98f88>, <Element tr at 0x10df98fc8>]\n"
     ]
    }
   ],
   "source": [
    "print(trs)"
   ]
  },
  {
   "cell_type": "markdown",
   "metadata": {},
   "source": [
    "## Write the data into Excel"
   ]
  },
  {
   "cell_type": "code",
   "execution_count": 1,
   "metadata": {},
   "outputs": [],
   "source": [
    "import xlwt"
   ]
  },
  {
   "cell_type": "code",
   "execution_count": 22,
   "metadata": {},
   "outputs": [],
   "source": [
    "#create one working sheet\n",
    "f = xlwt.Workbook()"
   ]
  },
  {
   "cell_type": "code",
   "execution_count": 23,
   "metadata": {},
   "outputs": [],
   "source": [
    "lotto = f.add_sheet('lottery',cell_overwrite_ok=True)"
   ]
  },
  {
   "cell_type": "code",
   "execution_count": 24,
   "metadata": {},
   "outputs": [],
   "source": [
    "#header in excel\n",
    "row = ['Date','Period','number1','number2','number3','sale_amount','reward ratio']\n",
    "for i in range(0,len(row)):\n",
    "    lotto.write(0,i,row[i])"
   ]
  },
  {
   "cell_type": "code",
   "execution_count": null,
   "metadata": {},
   "outputs": [],
   "source": [
    "#We need to scrap more data so we need different url and same process above.(I plan to get 100 pages of lottery info)\n",
    "#we have already opened a xls file and have it headers."
   ]
  },
  {
   "cell_type": "code",
   "execution_count": 25,
   "metadata": {},
   "outputs": [],
   "source": [
    "j = 1\n",
    "for i in range(1,101):\n",
    "    url = 'http://kaijiang.zhcw.com/zhcw/html/3d/list_{}.html'.format(i)\n",
    "    headers = {'User-Agent': 'Mozilla/5.0 (Macintosh; Intel Mac OS X 10_12_6) AppleWebKit/537.36 (KHTML, like Gecko) Chrome/74.0.3729.169 Safari/537.36', 'Accept-Encoding': 'gzip, deflate', 'Accept': '*/*', 'Connection': 'keep-alive'}\n",
    "    response = requests.get(url = url,headers = headers)\n",
    "    res_xpath = etree.HTML(response.text)\n",
    "    trs = res_xpath.xpath('/html/body/table//tr')\n",
    "    \n",
    "    for tr in trs[2:-1]:\n",
    "        lotto.write(j,0,tr.xpath('./td[1]/text()'))\n",
    "        lotto.write(j,1,tr.xpath('./td[2]/text()'))\n",
    "        lotto.write(j,2,tr.xpath('./td[3]/em[1]/text()'))\n",
    "        lotto.write(j,3,tr.xpath('./td[3]/em[2]/text()'))\n",
    "        lotto.write(j,4,tr.xpath('./td[3]/em[3]/text()'))\n",
    "        lotto.write(j,5,tr.xpath('./td[7]/strong[1]/text()'))\n",
    "        lotto.write(j,6,tr.xpath('./td[8]/text()'))\n",
    "        j += 1\n"
   ]
  },
  {
   "cell_type": "code",
   "execution_count": 26,
   "metadata": {},
   "outputs": [],
   "source": [
    "f.save('lotto.xls')"
   ]
  },
  {
   "cell_type": "markdown",
   "metadata": {},
   "source": [
    "**Now,we have our xls file to store 2000 lottery data (2000 days)**"
   ]
  },
  {
   "cell_type": "markdown",
   "metadata": {},
   "source": [
    "## Analyze the data"
   ]
  },
  {
   "cell_type": "code",
   "execution_count": 27,
   "metadata": {},
   "outputs": [],
   "source": [
    "import pandas as pd"
   ]
  },
  {
   "cell_type": "code",
   "execution_count": 185,
   "metadata": {},
   "outputs": [],
   "source": [
    "data = pd.read_csv('lotto.csv')"
   ]
  },
  {
   "cell_type": "code",
   "execution_count": 30,
   "metadata": {},
   "outputs": [
    {
     "data": {
      "text/html": [
       "<div>\n",
       "<style scoped>\n",
       "    .dataframe tbody tr th:only-of-type {\n",
       "        vertical-align: middle;\n",
       "    }\n",
       "\n",
       "    .dataframe tbody tr th {\n",
       "        vertical-align: top;\n",
       "    }\n",
       "\n",
       "    .dataframe thead th {\n",
       "        text-align: right;\n",
       "    }\n",
       "</style>\n",
       "<table border=\"1\" class=\"dataframe\">\n",
       "  <thead>\n",
       "    <tr style=\"text-align: right;\">\n",
       "      <th></th>\n",
       "      <th>Date</th>\n",
       "      <th>Period</th>\n",
       "      <th>number1</th>\n",
       "      <th>number2</th>\n",
       "      <th>number3</th>\n",
       "      <th>sale_amount</th>\n",
       "      <th>reward ratio</th>\n",
       "    </tr>\n",
       "  </thead>\n",
       "  <tbody>\n",
       "    <tr>\n",
       "      <th>0</th>\n",
       "      <td>2019-05-27</td>\n",
       "      <td>2019140</td>\n",
       "      <td>2</td>\n",
       "      <td>7</td>\n",
       "      <td>6</td>\n",
       "      <td>48,426,226</td>\n",
       "      <td>89.26%</td>\n",
       "    </tr>\n",
       "    <tr>\n",
       "      <th>1</th>\n",
       "      <td>2019-05-26</td>\n",
       "      <td>2019139</td>\n",
       "      <td>8</td>\n",
       "      <td>4</td>\n",
       "      <td>9</td>\n",
       "      <td>47,600,472</td>\n",
       "      <td>29.39%</td>\n",
       "    </tr>\n",
       "    <tr>\n",
       "      <th>2</th>\n",
       "      <td>2019-05-25</td>\n",
       "      <td>2019138</td>\n",
       "      <td>3</td>\n",
       "      <td>3</td>\n",
       "      <td>1</td>\n",
       "      <td>48,452,642</td>\n",
       "      <td>63.42%</td>\n",
       "    </tr>\n",
       "    <tr>\n",
       "      <th>3</th>\n",
       "      <td>2019-05-24</td>\n",
       "      <td>2019137</td>\n",
       "      <td>3</td>\n",
       "      <td>4</td>\n",
       "      <td>7</td>\n",
       "      <td>50,622,682</td>\n",
       "      <td>76.94%</td>\n",
       "    </tr>\n",
       "    <tr>\n",
       "      <th>4</th>\n",
       "      <td>2019-05-23</td>\n",
       "      <td>2019136</td>\n",
       "      <td>6</td>\n",
       "      <td>7</td>\n",
       "      <td>0</td>\n",
       "      <td>48,602,548</td>\n",
       "      <td>67.78%</td>\n",
       "    </tr>\n",
       "  </tbody>\n",
       "</table>\n",
       "</div>"
      ],
      "text/plain": [
       "         Date   Period  number1  number2  number3 sale_amount reward ratio\n",
       "0  2019-05-27  2019140        2        7        6  48,426,226       89.26%\n",
       "1  2019-05-26  2019139        8        4        9  47,600,472       29.39%\n",
       "2  2019-05-25  2019138        3        3        1  48,452,642       63.42%\n",
       "3  2019-05-24  2019137        3        4        7  50,622,682       76.94%\n",
       "4  2019-05-23  2019136        6        7        0  48,602,548       67.78%"
      ]
     },
     "execution_count": 30,
     "metadata": {},
     "output_type": "execute_result"
    }
   ],
   "source": [
    "data.head()"
   ]
  },
  {
   "cell_type": "code",
   "execution_count": 31,
   "metadata": {},
   "outputs": [
    {
     "name": "stdout",
     "output_type": "stream",
     "text": [
      "<class 'pandas.core.frame.DataFrame'>\n",
      "RangeIndex: 2000 entries, 0 to 1999\n",
      "Data columns (total 7 columns):\n",
      "Date            2000 non-null object\n",
      "Period          2000 non-null int64\n",
      "number1         2000 non-null int64\n",
      "number2         2000 non-null int64\n",
      "number3         2000 non-null int64\n",
      "sale_amount     2000 non-null object\n",
      "reward ratio    2000 non-null object\n",
      "dtypes: int64(4), object(3)\n",
      "memory usage: 109.5+ KB\n"
     ]
    }
   ],
   "source": [
    "data.info() #there is no missing value to be imputed"
   ]
  },
  {
   "cell_type": "code",
   "execution_count": 32,
   "metadata": {},
   "outputs": [],
   "source": [
    "#visualization\n",
    "import seaborn as sns\n",
    "import matplotlib.pyplot as plt\n",
    "%matplotlib inline"
   ]
  },
  {
   "cell_type": "markdown",
   "metadata": {},
   "source": [
    "**from the data, the there is no significant correlation between winning numbers and orders.**"
   ]
  },
  {
   "cell_type": "code",
   "execution_count": 64,
   "metadata": {},
   "outputs": [
    {
     "data": {
      "text/plain": [
       "Text(0.5, 1.0, 'number3')"
      ]
     },
     "execution_count": 64,
     "metadata": {},
     "output_type": "execute_result"
    },
    {
     "data": {
      "image/png": "[encoded data removed]",
      "text/plain": [
       "<Figure size 1296x288 with 3 Axes>"
      ]
     },
     "metadata": {
      "needs_background": "light"
     },
     "output_type": "display_data"
    }
   ],
   "source": [
    "figsize = 18,4\n",
    "fig = plt.figure(figsize=figsize)\n",
    "ax1 = fig.add_subplot(1,3,1)\n",
    "ax1.hist(data['number1'])\n",
    "ax1.set_title('number1')\n",
    "ax2 = fig.add_subplot(1,3,2)\n",
    "ax2.hist(data['number2'],color='green')\n",
    "ax2.set_title('number2')\n",
    "ax3 = fig.add_subplot(1,3,3)\n",
    "ax3.hist(data['number3'],color='pink')\n",
    "ax3.set_title('number3')"
   ]
  },
  {
   "cell_type": "markdown",
   "metadata": {},
   "source": [
    "**Next I will examine whether the company will prefer any specific number**"
   ]
  },
  {
   "cell_type": "code",
   "execution_count": 88,
   "metadata": {},
   "outputs": [],
   "source": [
    "li1 = []\n",
    "for i in range(2,5):\n",
    "    for j in data.iloc[:,i]:\n",
    "        li1.append(j)"
   ]
  },
  {
   "cell_type": "code",
   "execution_count": 104,
   "metadata": {},
   "outputs": [
    {
     "name": "stdout",
     "output_type": "stream",
     "text": [
      "number 0 : 568\n",
      "number 1 : 609\n",
      "number 2 : 549\n",
      "number 3 : 629\n",
      "number 4 : 565\n",
      "number 5 : 577\n",
      "number 6 : 612\n",
      "number 7 : 642\n",
      "number 8 : 645\n",
      "number 9 : 604\n"
     ]
    }
   ],
   "source": [
    "#plt.hist(li1,orientation='horizontal')\n",
    "for i in range(10):\n",
    "    print('number',i,':',li1.count(i))"
   ]
  },
  {
   "cell_type": "markdown",
   "metadata": {},
   "source": [
    "**it seems number 3 7 8 is more likely to be chosen, next I will find the relationship between numbers and date.**"
   ]
  },
  {
   "cell_type": "code",
   "execution_count": 140,
   "metadata": {},
   "outputs": [],
   "source": [
    "li2 = []\n",
    "for i in range(0,2000):\n",
    "    li2.append(pd.to_datetime(data.iloc[i,0]).weekday()+1)"
   ]
  },
  {
   "cell_type": "code",
   "execution_count": 186,
   "metadata": {},
   "outputs": [],
   "source": [
    "data['DayoftheWeek'] = li2"
   ]
  },
  {
   "cell_type": "code",
   "execution_count": 187,
   "metadata": {},
   "outputs": [
    {
     "data": {
      "text/html": [
       "<div>\n",
       "<style scoped>\n",
       "    .dataframe tbody tr th:only-of-type {\n",
       "        vertical-align: middle;\n",
       "    }\n",
       "\n",
       "    .dataframe tbody tr th {\n",
       "        vertical-align: top;\n",
       "    }\n",
       "\n",
       "    .dataframe thead th {\n",
       "        text-align: right;\n",
       "    }\n",
       "</style>\n",
       "<table border=\"1\" class=\"dataframe\">\n",
       "  <thead>\n",
       "    <tr style=\"text-align: right;\">\n",
       "      <th></th>\n",
       "      <th>Date</th>\n",
       "      <th>Period</th>\n",
       "      <th>number1</th>\n",
       "      <th>number2</th>\n",
       "      <th>number3</th>\n",
       "      <th>sale_amount</th>\n",
       "      <th>reward ratio</th>\n",
       "      <th>DayoftheWeek</th>\n",
       "    </tr>\n",
       "  </thead>\n",
       "  <tbody>\n",
       "    <tr>\n",
       "      <th>0</th>\n",
       "      <td>2019-05-27</td>\n",
       "      <td>2019140</td>\n",
       "      <td>2</td>\n",
       "      <td>7</td>\n",
       "      <td>6</td>\n",
       "      <td>48,426,226</td>\n",
       "      <td>89.26%</td>\n",
       "      <td>1</td>\n",
       "    </tr>\n",
       "    <tr>\n",
       "      <th>1</th>\n",
       "      <td>2019-05-26</td>\n",
       "      <td>2019139</td>\n",
       "      <td>8</td>\n",
       "      <td>4</td>\n",
       "      <td>9</td>\n",
       "      <td>47,600,472</td>\n",
       "      <td>29.39%</td>\n",
       "      <td>7</td>\n",
       "    </tr>\n",
       "    <tr>\n",
       "      <th>2</th>\n",
       "      <td>2019-05-25</td>\n",
       "      <td>2019138</td>\n",
       "      <td>3</td>\n",
       "      <td>3</td>\n",
       "      <td>1</td>\n",
       "      <td>48,452,642</td>\n",
       "      <td>63.42%</td>\n",
       "      <td>6</td>\n",
       "    </tr>\n",
       "    <tr>\n",
       "      <th>3</th>\n",
       "      <td>2019-05-24</td>\n",
       "      <td>2019137</td>\n",
       "      <td>3</td>\n",
       "      <td>4</td>\n",
       "      <td>7</td>\n",
       "      <td>50,622,682</td>\n",
       "      <td>76.94%</td>\n",
       "      <td>5</td>\n",
       "    </tr>\n",
       "    <tr>\n",
       "      <th>4</th>\n",
       "      <td>2019-05-23</td>\n",
       "      <td>2019136</td>\n",
       "      <td>6</td>\n",
       "      <td>7</td>\n",
       "      <td>0</td>\n",
       "      <td>48,602,548</td>\n",
       "      <td>67.78%</td>\n",
       "      <td>4</td>\n",
       "    </tr>\n",
       "  </tbody>\n",
       "</table>\n",
       "</div>"
      ],
      "text/plain": [
       "         Date   Period  number1  number2  number3 sale_amount reward ratio  \\\n",
       "0  2019-05-27  2019140        2        7        6  48,426,226       89.26%   \n",
       "1  2019-05-26  2019139        8        4        9  47,600,472       29.39%   \n",
       "2  2019-05-25  2019138        3        3        1  48,452,642       63.42%   \n",
       "3  2019-05-24  2019137        3        4        7  50,622,682       76.94%   \n",
       "4  2019-05-23  2019136        6        7        0  48,602,548       67.78%   \n",
       "\n",
       "   DayoftheWeek  \n",
       "0             1  \n",
       "1             7  \n",
       "2             6  \n",
       "3             5  \n",
       "4             4  "
      ]
     },
     "execution_count": 187,
     "metadata": {},
     "output_type": "execute_result"
    }
   ],
   "source": [
    "data.head() #1:Monday,2:Thuesday..7:Sunday"
   ]
  },
  {
   "cell_type": "code",
   "execution_count": 212,
   "metadata": {},
   "outputs": [
    {
     "data": {
      "text/html": [
       "<div>\n",
       "<style scoped>\n",
       "    .dataframe tbody tr th:only-of-type {\n",
       "        vertical-align: middle;\n",
       "    }\n",
       "\n",
       "    .dataframe tbody tr th {\n",
       "        vertical-align: top;\n",
       "    }\n",
       "\n",
       "    .dataframe thead th {\n",
       "        text-align: right;\n",
       "    }\n",
       "</style>\n",
       "<table border=\"1\" class=\"dataframe\">\n",
       "  <thead>\n",
       "    <tr style=\"text-align: right;\">\n",
       "      <th></th>\n",
       "      <th>Date</th>\n",
       "      <th>Period</th>\n",
       "      <th>number1</th>\n",
       "      <th>number2</th>\n",
       "      <th>number3</th>\n",
       "      <th>sale_amount</th>\n",
       "      <th>reward ratio</th>\n",
       "      <th>DayoftheWeek</th>\n",
       "    </tr>\n",
       "  </thead>\n",
       "  <tbody>\n",
       "    <tr>\n",
       "      <th>0</th>\n",
       "      <td>2019-05-27</td>\n",
       "      <td>2019140</td>\n",
       "      <td>2</td>\n",
       "      <td>7</td>\n",
       "      <td>6</td>\n",
       "      <td>48,426,226</td>\n",
       "      <td>89.26%</td>\n",
       "      <td>1</td>\n",
       "    </tr>\n",
       "    <tr>\n",
       "      <th>7</th>\n",
       "      <td>2019-05-20</td>\n",
       "      <td>2019133</td>\n",
       "      <td>2</td>\n",
       "      <td>1</td>\n",
       "      <td>9</td>\n",
       "      <td>48,158,756</td>\n",
       "      <td>67.87%</td>\n",
       "      <td>1</td>\n",
       "    </tr>\n",
       "    <tr>\n",
       "      <th>14</th>\n",
       "      <td>2019-05-13</td>\n",
       "      <td>2019126</td>\n",
       "      <td>4</td>\n",
       "      <td>7</td>\n",
       "      <td>0</td>\n",
       "      <td>48,571,358</td>\n",
       "      <td>39.26%</td>\n",
       "      <td>1</td>\n",
       "    </tr>\n",
       "    <tr>\n",
       "      <th>21</th>\n",
       "      <td>2019-05-06</td>\n",
       "      <td>2019119</td>\n",
       "      <td>2</td>\n",
       "      <td>4</td>\n",
       "      <td>9</td>\n",
       "      <td>50,407,680</td>\n",
       "      <td>31.10%</td>\n",
       "      <td>1</td>\n",
       "    </tr>\n",
       "    <tr>\n",
       "      <th>28</th>\n",
       "      <td>2019-04-29</td>\n",
       "      <td>2019112</td>\n",
       "      <td>9</td>\n",
       "      <td>2</td>\n",
       "      <td>2</td>\n",
       "      <td>49,786,448</td>\n",
       "      <td>42.41%</td>\n",
       "      <td>1</td>\n",
       "    </tr>\n",
       "  </tbody>\n",
       "</table>\n",
       "</div>"
      ],
      "text/plain": [
       "          Date   Period  number1  number2  number3 sale_amount reward ratio  \\\n",
       "0   2019-05-27  2019140        2        7        6  48,426,226       89.26%   \n",
       "7   2019-05-20  2019133        2        1        9  48,158,756       67.87%   \n",
       "14  2019-05-13  2019126        4        7        0  48,571,358       39.26%   \n",
       "21  2019-05-06  2019119        2        4        9  50,407,680       31.10%   \n",
       "28  2019-04-29  2019112        9        2        2  49,786,448       42.41%   \n",
       "\n",
       "    DayoftheWeek  \n",
       "0              1  \n",
       "7              1  \n",
       "14             1  \n",
       "21             1  \n",
       "28             1  "
      ]
     },
     "execution_count": 212,
     "metadata": {},
     "output_type": "execute_result"
    }
   ],
   "source": [
    "data[data['DayoftheWeek']==1].head()"
   ]
  },
  {
   "cell_type": "code",
   "execution_count": 236,
   "metadata": {},
   "outputs": [],
   "source": [
    "#set the function to count each number in every day of the week\n",
    "def countday(data):\n",
    "    li1 = []\n",
    "    for i in range(2,5):\n",
    "        for j in data.iloc[:,i]:\n",
    "            li1.append(j)\n",
    "    for i in range(10):\n",
    "        print('number',i,':',li1.count(i),' probability:',round(li1.count(i)/len(li1),3))      "
   ]
  },
  {
   "cell_type": "code",
   "execution_count": 244,
   "metadata": {},
   "outputs": [
    {
     "name": "stdout",
     "output_type": "stream",
     "text": [
      "number 0 : 81  probability: 0.094\n",
      "number 1 : 85  probability: 0.099\n",
      "number 2 : 73  probability: 0.085\n",
      "number 3 : 84  probability: 0.098\n",
      "number 4 : 58  probability: 0.068\n",
      "number 5 : 76  probability: 0.089\n",
      "number 6 : 78  probability: 0.091\n",
      "number 7 : 118  probability: 0.138\n",
      "number 8 : 99  probability: 0.115\n",
      "number 9 : 106  probability: 0.124\n"
     ]
    }
   ],
   "source": [
    "countday(data[data['DayoftheWeek']==1])"
   ]
  },
  {
   "cell_type": "markdown",
   "metadata": {},
   "source": [
    "## Conclusion\n",
    "\n",
    "**After checking every date, I make a table for chossing the best 3 numbers for each day of the week, which is the most likely numbers in that day based on these 5 years dataset. However, this strategy may not the best one to use, and we need combine more data to consider. We cannot use lottery to earn money even we have better strategy because, actually, each number will have eventually same probability (1/10) to be picked, and we should just have fun playing it.**"
   ]
  },
  {
   "cell_type": "code",
   "execution_count": 4,
   "metadata": {},
   "outputs": [
    {
     "name": "stdout",
     "output_type": "stream",
     "text": [
      "+-------------+---------+---------+---------+\n",
      "| Day of Week | number1 | number2 | number3 |\n",
      "+-------------+---------+---------+---------+\n",
      "|    Monday   |    7    |    8    |    9    |\n",
      "|   Thuesday  |    4    |    6    |    8    |\n",
      "|  Wednesday  |    3    |    5    |    8    |\n",
      "|   Thursday  |    1    |    3    |    8    |\n",
      "|    Friday   |    3    |    6    |    8    |\n",
      "|   Saturday  |    1    |    7    |    0    |\n",
      "|    Sunday   |    1    |    0    |    7    |\n",
      "+-------------+---------+---------+---------+\n"
     ]
    }
   ],
   "source": [
    "from prettytable import PrettyTable\n",
    "x= PrettyTable([\"Day of Week\", \"number1\", 'number2','number3'])\n",
    "x.add_row(['Monday',7,8,9])\n",
    "x.add_row([\"Thuesday\",4,6,8])\n",
    "x.add_row([\"Wednesday\",3,5,8])\n",
    "x.add_row([\"Thursday\",1,3,8])\n",
    "x.add_row([\"Friday\",3,6,8])\n",
    "x.add_row([\"Saturday\",1,7,0])\n",
    "x.add_row([\"Sunday\",1,0,7])\n",
    "print(x)"
   ]
  }
 ],
 "metadata": {
  "kernelspec": {
   "display_name": "Python 3",
   "language": "python",
   "name": "python3"
  },
  "language_info": {
   "codemirror_mode": {
    "name": "ipython",
    "version": 3
   },
   "file_extension": ".py",
   "mimetype": "text/x-python",
   "name": "python",
   "nbconvert_exporter": "python",
   "pygments_lexer": "ipython3",
   "version": "3.7.3"
  }
 },
 "nbformat": 4,
 "nbformat_minor": 2
}
